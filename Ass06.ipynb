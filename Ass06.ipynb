{
  "nbformat": 4,
  "nbformat_minor": 0,
  "metadata": {
    "colab": {
      "provenance": [],
      "authorship_tag": "ABX9TyMn+wBH5XxvYlqUha5ANYaw",
      "include_colab_link": true
    },
    "kernelspec": {
      "name": "python3",
      "display_name": "Python 3"
    },
    "language_info": {
      "name": "python"
    }
  },
  "cells": [
    {
      "cell_type": "markdown",
      "metadata": {
        "id": "view-in-github",
        "colab_type": "text"
      },
      "source": [
        "<a href=\"https://colab.research.google.com/github/hafizwaseem1/BMI-Calculator/blob/main/Ass06.ipynb\" target=\"_parent\"><img src=\"https://colab.research.google.com/assets/colab-badge.svg\" alt=\"Open In Colab\"/></a>"
      ]
    },
    {
      "cell_type": "code",
      "execution_count": null,
      "metadata": {
        "id": "7I62pToF3HE5"
      },
      "outputs": [],
      "source": [
        "import requests\n",
        "\n",
        "# Replace with your Tavus API key\n",
        "API_KEY = \"983fc23b9d5a470ebd694ae0477def8b\"\n",
        "\n",
        "# Tavus API endpoint (replace with the actual endpoint)\n",
        "API_URL = \"https://api.tavus.io/v1/replicas\"\n",
        "\n",
        "# Video generation parameters\n",
        "payload = {\n",
        "    \"prompt\": \"Create a video about the benefits of AI in education.\",  # Your custom prompt\n",
        "    \"voice\": \"default\",  # Choose a voice style if applicable\n",
        "    \"language\": \"en\",    # Language of the video\n",
        "    \"speed\": 1.0         # Speed of the narration (optional)\n",
        "}\n",
        "\n",
        "import requests\n",
        "\n",
        "# Replace with your Tavus API key\n",
        "API_KEY = \"983fc23b9d5a470ebd694ae0477def8b\"\n",
        "\n",
        "# Tavus API endpoint (replace with the actual endpoint)\n",
        "API_URL = \"https://platform.tavus.io/api-keys\"\n",
        "\n",
        "# Video generation parameters\n",
        "payload = {\n",
        "    \"prompt\": \"Create a video about the benefits of AI in education.\",  # Your custom prompt\n",
        "    \"voice\": \"default\",  # Choose a voice style if applicable\n",
        "    \"language\": \"en\",    # Language of the video\n",
        "    \"speed\": 1.0         # Speed of the narration (optional)\n",
        "}\n",
        "\n",
        "# Headers for the request\n",
        "headers = {\n",
        "    \"Authorization\": f\"Bearer {API_KEY}\",\n",
        "    \"Content-Type\": \"application/json\"\n",
        "}\n",
        "\n",
        "# Send the request to Tavus API\n",
        "try:\n",
        "    response = requests.post(API_URL, json=payload, headers=headers)\n",
        "    response.raise_for_status()  # Raise an error for HTTP codes 4xx/5xx\n",
        "    result = response.json()\n",
        "    print(\"Video generation initiated successfully!\")\n",
        "    print(\"Response:\", result)\n",
        "except requests.exceptions.RequestException as e:\n",
        "    print(\"Error while interacting with Tavus API:\", e)\n",
        "\n",
        "# Send the request to Tavus API\n",
        "try:\n",
        "    response = requests.post(API_URL, json=payload, headers=headers)\n",
        "    response.raise_for_status()  # Raise an error for HTTP codes 4xx/5xx\n",
        "    result = response.json()\n",
        "    print(\"Video generation initiated successfully!\")\n",
        "    print(\"Response:\", result)\n",
        "except requests.exceptions.RequestException as e:\n",
        "    print(\"Error while interacting with Tavus API:\", e)"
      ]
    }
  ]
}